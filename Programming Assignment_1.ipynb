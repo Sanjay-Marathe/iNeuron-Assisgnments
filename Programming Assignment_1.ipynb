{
 "cells": [
  {
   "cell_type": "code",
   "execution_count": 1,
   "id": "df01bbad",
   "metadata": {},
   "outputs": [
    {
     "name": "stdout",
     "output_type": "stream",
     "text": [
      "Hello Python\n"
     ]
    }
   ],
   "source": [
    "# 1. Write a Python program to print \"Hello Python\"?\n",
    "print(\"Hello Python\")"
   ]
  },
  {
   "cell_type": "code",
   "execution_count": 7,
   "id": "7a08ba8c",
   "metadata": {},
   "outputs": [
    {
     "name": "stdout",
     "output_type": "stream",
     "text": [
      "Enter first number : 12\n",
      "Enter first number : 12\n",
      "Addition of two numbers is: 24\n"
     ]
    }
   ],
   "source": [
    "# 2.Write a Python program to do arithmetical operations addition and division.?\n",
    "first_number=int(input(\"Enter first number : \"))\n",
    "second_number=int(input(\"Enter first number : \"))\n",
    "sum=first_number+second_number\n",
    "print(\"Addition of two numbers is:\",sum)"
   ]
  },
  {
   "cell_type": "code",
   "execution_count": 8,
   "id": "17bb42b8",
   "metadata": {},
   "outputs": [
    {
     "name": "stdout",
     "output_type": "stream",
     "text": [
      "Enter first number : 12\n",
      "Enter first number : 12\n",
      "division of two number is: 1.0\n"
     ]
    }
   ],
   "source": [
    "first_number=int(input(\"Enter first number : \"))\n",
    "second_number=int(input(\"Enter first number : \"))\n",
    "division=first_number/second_number\n",
    "print(\"division of two number is:\", division)\n"
   ]
  },
  {
   "cell_type": "code",
   "execution_count": 11,
   "id": "44fa9de5",
   "metadata": {},
   "outputs": [
    {
     "name": "stdout",
     "output_type": "stream",
     "text": [
      "Enter the base of traingle : 10\n",
      "Enter height of the traingle : 10\n",
      "Area of traingle is : 50.0\n"
     ]
    }
   ],
   "source": [
    "# 3. Write a Python program to find area of traingle?\n",
    "base=float(input(\"Enter the base of traingle : \"))\n",
    "height=float(input(\"Enter height of the traingle : \"))\n",
    "area= 1/2*base*height\n",
    "print(\"Area of traingle is :\", area)"
   ]
  },
  {
   "cell_type": "code",
   "execution_count": 14,
   "id": "7b92d49f",
   "metadata": {},
   "outputs": [
    {
     "name": "stdout",
     "output_type": "stream",
     "text": [
      "Enter value of first variable: Sanjay\n",
      "Enter value of second variable: Amit\n",
      "After swapping result will be :\n",
      "first_variable is :  Amit\n",
      "second variable is:  Sanjay\n"
     ]
    }
   ],
   "source": [
    "# 4. Write a Python program to swap two variables?\n",
    "first_variable=input(\"Enter value of first variable: \")\n",
    "second_variable=input(\"Enter value of second variable: \")\n",
    "temp=first_variable\n",
    "first_variable=second_variable\n",
    "second_variable=temp\n",
    "print(\"After swapping result will be :\")\n",
    "print(\"first_variable is : \", first_variable)\n",
    "print(\"second variable is: \", second_variable)"
   ]
  },
  {
   "cell_type": "code",
   "execution_count": 45,
   "id": "eb71c8eb",
   "metadata": {},
   "outputs": [
    {
     "name": "stdout",
     "output_type": "stream",
     "text": [
      "Generated random number is:  1\n"
     ]
    }
   ],
   "source": [
    "# 5.Write a Python program to generate a random number?\n",
    "# here I am trying to print random integer number from 1 to 6 like dice.\n",
    "import random\n",
    "number=random.randint(1,6)\n",
    "print(\"Generated random number is: \", number)\n"
   ]
  },
  {
   "cell_type": "code",
   "execution_count": null,
   "id": "7aa1ca5d",
   "metadata": {},
   "outputs": [],
   "source": []
  }
 ],
 "metadata": {
  "kernelspec": {
   "display_name": "Python 3 (ipykernel)",
   "language": "python",
   "name": "python3"
  },
  "language_info": {
   "codemirror_mode": {
    "name": "ipython",
    "version": 3
   },
   "file_extension": ".py",
   "mimetype": "text/x-python",
   "name": "python",
   "nbconvert_exporter": "python",
   "pygments_lexer": "ipython3",
   "version": "3.9.12"
  }
 },
 "nbformat": 4,
 "nbformat_minor": 5
}
