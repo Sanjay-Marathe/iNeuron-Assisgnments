{
 "cells": [
  {
   "cell_type": "code",
   "execution_count": 4,
   "id": "00029a9a",
   "metadata": {},
   "outputs": [
    {
     "name": "stdout",
     "output_type": "stream",
     "text": [
      "Enter vaulue in KM which needs to be converted from KM to Miles: 100\n",
      "After conversion from KM to Miles value is : 62.1 miles\n"
     ]
    }
   ],
   "source": [
    "# 1. Write a Python program to convert kilometers to miles?\n",
    "Distance=float(input(\"Enter vaulue in KM which needs to be converted from KM to Miles: \"))\n",
    "miles_distance=Distance*0.621\n",
    "print(\"After conversion from KM to Miles value is :\",miles_distance,\"miles\")"
   ]
  },
  {
   "cell_type": "code",
   "execution_count": 8,
   "id": "7c60b5d6",
   "metadata": {},
   "outputs": [
    {
     "name": "stdout",
     "output_type": "stream",
     "text": [
      "Enter the temperature which needs to be converted from Celsius to Fahrenheit: 40\n",
      "After conversion from Celsius to Fahrenheit value is : 104.0 Fahrenheit\n"
     ]
    }
   ],
   "source": [
    "# 2. Write a Python program to convert Celsius to Fahrenheit?\n",
    "temp_in_celsius=float(input(\"Enter the temperature which needs to be converted from Celsius to Fahrenheit: \"))\n",
    "temp_in_fahrenheit=(temp_in_celsius*9/5)+32\n",
    "print(\"After conversion from Celsius to Fahrenheit value is :\",temp_in_fahrenheit,\"Fahrenheit\")"
   ]
  },
  {
   "cell_type": "code",
   "execution_count": 10,
   "id": "fdb0e6db",
   "metadata": {},
   "outputs": [
    {
     "name": "stdout",
     "output_type": "stream",
     "text": [
      "enter calendar year: 1986\n",
      "enter month: 01\n",
      "    January 1986\n",
      "Mo Tu We Th Fr Sa Su\n",
      "       1  2  3  4  5\n",
      " 6  7  8  9 10 11 12\n",
      "13 14 15 16 17 18 19\n",
      "20 21 22 23 24 25 26\n",
      "27 28 29 30 31\n",
      "\n"
     ]
    }
   ],
   "source": [
    "# 3. Write a Python program to display calendar?\n",
    "\n",
    "import calendar\n",
    "yr=int(input(\"enter calendar year: \"))\n",
    "mt=int(input(\"enter month: \"))\n",
    "print(calendar.month(yr,mt))"
   ]
  },
  {
   "cell_type": "code",
   "execution_count": 20,
   "id": "185b9269",
   "metadata": {},
   "outputs": [
    {
     "name": "stdout",
     "output_type": "stream",
     "text": [
      "The roots are\n",
      "(-12+0j)\n",
      "(2+0j)\n"
     ]
    }
   ],
   "source": [
    "# 4. Write a Python program to solve quadratic equation?\n",
    "\n",
    "# importing complex math module\n",
    "import cmath\n",
    "a=1\n",
    "b=10\n",
    "c=-24\n",
    "# calculation of the discriminant\n",
    "dis = (b**2) - (4 * a*c)\n",
    "  \n",
    "# finding two roots\n",
    "ans1 = (-b-cmath.sqrt(dis))/(2 * a)\n",
    "ans2 = (-b + cmath.sqrt(dis))/(2 * a)\n",
    "  \n",
    "# printing the results\n",
    "print('The roots are')\n",
    "print(ans1)\n",
    "print(ans2)\n"
   ]
  },
  {
   "cell_type": "code",
   "execution_count": null,
   "id": "1f0d0028",
   "metadata": {},
   "outputs": [],
   "source": [
    "# 5. Write a Python program to swap two variables without temp variable?\n",
    "\n",
    "variable_1=input(\"Enter value of variable_1: \" )\n",
    "variable_2=input(\"Enter value of variable_2: \" )\n",
    "x,y=variable_1,variable_2\n",
    "print(\"Before swapping values as below :\",variable_1,variable_2)\n",
    "variable_1,variable_2=y,x\n",
    "print(\"After swapping values as below :\",variable_1,variable_2)\n",
    "\n"
   ]
  }
 ],
 "metadata": {
  "kernelspec": {
   "display_name": "Python 3 (ipykernel)",
   "language": "python",
   "name": "python3"
  },
  "language_info": {
   "codemirror_mode": {
    "name": "ipython",
    "version": 3
   },
   "file_extension": ".py",
   "mimetype": "text/x-python",
   "name": "python",
   "nbconvert_exporter": "python",
   "pygments_lexer": "ipython3",
   "version": "3.9.12"
  }
 },
 "nbformat": 4,
 "nbformat_minor": 5
}
