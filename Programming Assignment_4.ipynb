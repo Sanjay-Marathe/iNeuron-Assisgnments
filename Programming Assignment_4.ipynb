{
 "cells": [
  {
   "cell_type": "code",
   "execution_count": 14,
   "id": "13074b58",
   "metadata": {},
   "outputs": [
    {
     "name": "stdout",
     "output_type": "stream",
     "text": [
      "Enter number to find its factorial: 5\n",
      "Factorial of number is:  120\n"
     ]
    }
   ],
   "source": [
    "# 1. Write a Python Program to Find the Factorial of a Number?\n",
    "\n",
    "number=int(input(\"Enter number to find its factorial: \"))\n",
    "fact=number\n",
    "while fact > 1:\n",
    "    fact1=number*(fact-1)\n",
    "    number=fact1\n",
    "    fact=fact-1\n",
    "print( \"Factorial of number is: \",fact1)  "
   ]
  },
  {
   "cell_type": "code",
   "execution_count": 22,
   "id": "31b81d97",
   "metadata": {},
   "outputs": [
    {
     "name": "stdout",
     "output_type": "stream",
     "text": [
      "Enter number to display its multiplication : 11\n",
      "11 * 1 = 11\n",
      "11 * 2 = 22\n",
      "11 * 3 = 33\n",
      "11 * 4 = 44\n",
      "11 * 5 = 55\n",
      "11 * 6 = 66\n",
      "11 * 7 = 77\n",
      "11 * 8 = 88\n",
      "11 * 9 = 99\n",
      "11 * 10 = 110\n"
     ]
    }
   ],
   "source": [
    "# 2. Write a Python Program to Display the multiplication Table?\n",
    "number=int(input(\"Enter number to display its multiplication : \"))\n",
    "count=1\n",
    "while count<=10:\n",
    "    result=number*count\n",
    "    print(number, \"*\", count, \"=\",result)\n",
    "    count=count+1\n"
   ]
  },
  {
   "cell_type": "code",
   "execution_count": 36,
   "id": "4a179a89",
   "metadata": {},
   "outputs": [
    {
     "name": "stdout",
     "output_type": "stream",
     "text": [
      "Enter number of term of fibbonacci sequence greater than zero: 1\n",
      "0\n"
     ]
    }
   ],
   "source": [
    "# 3. Write a Python Program to Print the Fibonacci sequence?\n",
    "\n",
    "term=int(input(\"Enter number of term of fibbonacci sequence greater than zero: \"))\n",
    "first_term=0\n",
    "second_term=1\n",
    "count=1\n",
    "while count<=term:\n",
    "    if count==1:\n",
    "        print(first_term)\n",
    "        count=count+1\n",
    "        \n",
    "    elif count>1 and count<=2:\n",
    "        print(second_term)\n",
    "        count=count+1\n",
    "        \n",
    "    else:\n",
    "        result=(first_term+second_term)\n",
    "        #print(second_term)\n",
    "        print(result)\n",
    "        first_term=second_term\n",
    "        second_term=result\n",
    "        count=count+1"
   ]
  },
  {
   "cell_type": "code",
   "execution_count": 55,
   "id": "898b6fb7",
   "metadata": {},
   "outputs": [
    {
     "name": "stdout",
     "output_type": "stream",
     "text": [
      "Enter number to check is it armstrong number: 4\n",
      "Its Armstrong Number\n"
     ]
    }
   ],
   "source": [
    "# 4. Write a Python Program to Check Armstrong Number?\n",
    "\n",
    "number = int(input(\"Enter number to check is it armstrong number: \"))\n",
    "m = len(str(number))\n",
    "temp = number\n",
    "sum = 0\n",
    "while temp!=0:\n",
    "    #get the last digit in the number\n",
    "    k = temp%10 \n",
    "    #find k^m\n",
    "    sum +=k**m \n",
    "    #floor division \n",
    "    #which update number with second last digit as last digit\n",
    "    temp = temp//10 \n",
    "if sum==number:\n",
    "    print('Its Armstrong Number')\n",
    "else:\n",
    "    print('Its not a Armstrong Number')"
   ]
  },
  {
   "cell_type": "code",
   "execution_count": 61,
   "id": "9ae55a3e",
   "metadata": {},
   "outputs": [
    {
     "name": "stdout",
     "output_type": "stream",
     "text": [
      "Enter lower bound of interval: 1\n",
      "Enter upper bound of interval: 400\n",
      "1\n",
      "2\n",
      "3\n",
      "4\n",
      "5\n",
      "6\n",
      "7\n",
      "8\n",
      "9\n",
      "153\n",
      "370\n",
      "371\n"
     ]
    }
   ],
   "source": [
    "# 5. Write a Python Program to Find Armstrong Number in an Interval?\n",
    "\n",
    "l_bound = int(input(\"Enter lower bound of interval: \"))\n",
    "u_bound = int(input(\"Enter upper bound of interval: \"))\n",
    "\n",
    "for num in range(l_bound, u_bound + 1):\n",
    "\n",
    "   # order of number\n",
    "   order = len(str(num))\n",
    "    \n",
    "   # initialize sum\n",
    "   sum = 0\n",
    "\n",
    "   temp = num\n",
    "   while temp > 0:\n",
    "       digit = temp % 10\n",
    "       sum += digit ** order\n",
    "       temp //= 10\n",
    "\n",
    "   if num == sum:\n",
    "       print(num)\n"
   ]
  },
  {
   "cell_type": "code",
   "execution_count": 74,
   "id": "218cb65f",
   "metadata": {},
   "outputs": [
    {
     "name": "stdout",
     "output_type": "stream",
     "text": [
      "Enter how many natural number's sum would you like to find starting from 1: 10\n",
      "The sum is 55\n"
     ]
    }
   ],
   "source": [
    "# 6. Write a Python Program to Find the Sum of Natural Numbers?\n",
    "\n",
    "number = int(input(\"Enter how many natural number's sum would you like to find starting from 1: \"))\n",
    "count=1\n",
    "limit=number\n",
    "if number < 0:\n",
    "   print(\"Enter a positive number\")\n",
    "else:\n",
    "   sum = 0\n",
    "   # using while loop to iterate till not reach last natural number\n",
    "   while count <=limit:\n",
    "    sum= sum+number\n",
    "    number=number-1\n",
    "    count=count+1 \n",
    "print(\"The sum is\", sum)\n"
   ]
  }
 ],
 "metadata": {
  "kernelspec": {
   "display_name": "Python 3 (ipykernel)",
   "language": "python",
   "name": "python3"
  },
  "language_info": {
   "codemirror_mode": {
    "name": "ipython",
    "version": 3
   },
   "file_extension": ".py",
   "mimetype": "text/x-python",
   "name": "python",
   "nbconvert_exporter": "python",
   "pygments_lexer": "ipython3",
   "version": "3.9.12"
  }
 },
 "nbformat": 4,
 "nbformat_minor": 5
}
